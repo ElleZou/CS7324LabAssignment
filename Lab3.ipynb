{
 "cells": [
  {
   "cell_type": "markdown",
   "metadata": {},
   "source": [
    "# Lab One Exploring the data\n",
    "## Team member\n",
    "Xiaoqing Zou, Jonathan Mejia, Rongwei Ji\n",
    "\n",
    "## Data introduction\n",
    "Data source: https://www.kaggle.com/datasets/aravindpcoder/obesity-or-cvd-risk-classifyregressorcluster \n",
    "\n",
    "Data file name: Lab3/data/ObesityDataSet.csv\n",
    "\n",
    "17 colums total, 2111 rows, it contains the categorical targets\n",
    "\n"
   ]
  }
 ],
 "metadata": {
  "kernelspec": {
   "display_name": "Python 3",
   "language": "python",
   "name": "python3"
  },
  "language_info": {
   "codemirror_mode": {
    "name": "ipython",
    "version": 3
   },
   "file_extension": ".py",
   "mimetype": "text/x-python",
   "name": "python",
   "nbconvert_exporter": "python",
   "pygments_lexer": "ipython3",
   "version": "3.11.5"
  }
 },
 "nbformat": 4,
 "nbformat_minor": 2
}
